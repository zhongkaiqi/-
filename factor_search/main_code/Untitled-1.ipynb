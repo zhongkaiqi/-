{
 "cells": [
  {
   "cell_type": "code",
   "execution_count": 1,
   "metadata": {},
   "outputs": [],
   "source": [
    "import pandas as pd"
   ]
  },
  {
   "cell_type": "code",
   "execution_count": 2,
   "metadata": {},
   "outputs": [
    {
     "name": "stdout",
     "output_type": "stream",
     "text": [
      "Requirement already satisfied: pyarrow in /Users/zhongkaiqi/anaconda3/lib/python3.11/site-packages (11.0.0)\n",
      "Requirement already satisfied: numpy>=1.16.6 in /Users/zhongkaiqi/anaconda3/lib/python3.11/site-packages (from pyarrow) (1.24.3)\n",
      "Note: you may need to restart the kernel to use updated packages.\n"
     ]
    }
   ],
   "source": [
    "pip install pyarrow"
   ]
  },
  {
   "cell_type": "code",
   "execution_count": null,
   "metadata": {},
   "outputs": [],
   "source": []
  },
  {
   "cell_type": "markdown",
   "metadata": {},
   "source": [
    "读取parquet文件的一个模版\n"
   ]
  },
  {
   "cell_type": "code",
   "execution_count": 4,
   "metadata": {},
   "outputs": [
    {
     "name": "stdout",
     "output_type": "stream",
     "text": [
      "      tradingdate             tradingtime symbol  openprice  lastprice  \\\n",
      "0      2022-01-04 2022-01-04 09:29:00.400  T2203     100.63    100.630   \n",
      "1      2022-01-04 2022-01-04 09:30:00.400  T2203     100.63    100.630   \n",
      "2      2022-01-04 2022-01-04 09:30:00.900  T2203     100.63    100.590   \n",
      "3      2022-01-04 2022-01-04 09:30:01.400  T2203     100.63    100.595   \n",
      "4      2022-01-04 2022-01-04 09:30:01.900  T2203     100.63    100.600   \n",
      "...           ...                     ...    ...        ...        ...   \n",
      "17817  2022-01-04 2022-01-04 15:14:58.400  T2203     100.63    100.745   \n",
      "17818  2022-01-04 2022-01-04 15:14:58.900  T2203     100.63    100.750   \n",
      "17819  2022-01-04 2022-01-04 15:14:59.400  T2203     100.63    100.750   \n",
      "17820  2022-01-04 2022-01-04 15:14:59.900  T2203     100.63    100.750   \n",
      "17821  2022-01-04 2022-01-04 15:15:00.400  T2203     100.63    100.750   \n",
      "\n",
      "       highprice  lowprice  settleprice  presettleprice  closeprice  ...  \\\n",
      "0        100.630   100.630          0.0          100.76        0.00  ...   \n",
      "1        100.640   100.620          0.0          100.76        0.00  ...   \n",
      "2        100.640   100.590          0.0          100.76        0.00  ...   \n",
      "3        100.640   100.580          0.0          100.76        0.00  ...   \n",
      "4        100.640   100.570          0.0          100.76        0.00  ...   \n",
      "...          ...       ...          ...             ...         ...  ...   \n",
      "17817    100.755   100.525          0.0          100.76        0.00  ...   \n",
      "17818    100.755   100.525          0.0          100.76        0.00  ...   \n",
      "17819    100.755   100.525          0.0          100.76        0.00  ...   \n",
      "17820    100.755   100.525          0.0          100.76        0.00  ...   \n",
      "17821    100.755   100.525          0.0          100.76      100.75  ...   \n",
      "\n",
      "         securityid  shortname  averageprice  orderrate  orderdiff  amplitude  \\\n",
      "0      2.080000e+11     长债2203       100.630    -0.7053     -134.0     0.0000   \n",
      "1      2.080000e+11     长债2203       100.631    -0.1855      -51.0     0.0002   \n",
      "2      2.080000e+11     长债2203       100.620    -0.2727      -42.0     0.0005   \n",
      "3      2.080000e+11     长债2203       100.613    -0.3600      -45.0     0.0006   \n",
      "4      2.080000e+11     长债2203       100.609    -0.0503       -9.0     0.0007   \n",
      "...             ...        ...           ...        ...        ...        ...   \n",
      "17817  2.080000e+11     长债2203       100.612     0.0737       70.0     0.0023   \n",
      "17818  2.080000e+11     长债2203       100.612     0.1314      118.0     0.0023   \n",
      "17819  2.080000e+11     长债2203       100.612     0.1229      111.0     0.0023   \n",
      "17820  2.080000e+11     长债2203       100.612     0.1153      105.0     0.0023   \n",
      "17821  2.080000e+11     长债2203       100.612     0.1153      105.0     0.0023   \n",
      "\n",
      "       volrate  sellvol   buyvol  biz_date  \n",
      "0       0.8549      0.0    187.0  20220104  \n",
      "1       1.3487    108.0    187.0  20220104  \n",
      "2       2.2950    315.0    187.0  20220104  \n",
      "3       3.3145    538.0    187.0  20220104  \n",
      "4       4.2243    538.0    386.0  20220104  \n",
      "...        ...      ...      ...       ...  \n",
      "17817   1.0907  29732.0  31855.0  20220104  \n",
      "17818   1.0916  29732.0  31905.0  20220104  \n",
      "17819   1.0917  29732.0  31910.0  20220104  \n",
      "17820   1.0917  29732.0  31913.0  20220104  \n",
      "17821   1.0917  29732.0  31913.0  20220104  \n",
      "\n",
      "[17822 rows x 63 columns]\n"
     ]
    }
   ],
   "source": [
    "import pyarrow.parquet as pq\n",
    "\n",
    "# 指定 Parquet 文件的路径\n",
    "parquet_file = '/Volumes/EXTERNAL_USB/swhy_data/2022年T合约tick数据/20220104.parquet'\n",
    "\n",
    "# 使用 pq.read_table() 读取 Parquet 文件\n",
    "table = pq.read_table(parquet_file)\n",
    "\n",
    "# 将数据转换为 Pandas DataFrame（如果需要）\n",
    "df = table.to_pandas()\n",
    "\n",
    "\n",
    "print(df)\n"
   ]
  },
  {
   "cell_type": "code",
   "execution_count": 13,
   "metadata": {},
   "outputs": [],
   "source": [
    "count = Counter(df.shortname)"
   ]
  },
  {
   "cell_type": "code",
   "execution_count": 12,
   "metadata": {},
   "outputs": [],
   "source": [
    "from collections import Counter\n",
    "#想要使用Counter必须要将其进行实例化"
   ]
  },
  {
   "cell_type": "code",
   "execution_count": 14,
   "metadata": {},
   "outputs": [
    {
     "data": {
      "text/plain": [
       "Counter({'长债2203': 17822})"
      ]
     },
     "execution_count": 14,
     "metadata": {},
     "output_type": "execute_result"
    }
   ],
   "source": [
    "count"
   ]
  },
  {
   "cell_type": "code",
   "execution_count": 15,
   "metadata": {},
   "outputs": [],
   "source": [
    "#enumerate函数作用"
   ]
  },
  {
   "cell_type": "code",
   "execution_count": 17,
   "metadata": {},
   "outputs": [
    {
     "name": "stdout",
     "output_type": "stream",
     "text": [
      "0 one\n",
      "1 two\n",
      "2 three\n"
     ]
    }
   ],
   "source": [
    "seq = ['one', 'two', 'three'] \n",
    "for i, element in enumerate(seq):      \n",
    "    print (i, element)"
   ]
  },
  {
   "cell_type": "code",
   "execution_count": null,
   "metadata": {},
   "outputs": [],
   "source": []
  }
 ],
 "metadata": {
  "kernelspec": {
   "display_name": "base",
   "language": "python",
   "name": "python3"
  },
  "language_info": {
   "codemirror_mode": {
    "name": "ipython",
    "version": 3
   },
   "file_extension": ".py",
   "mimetype": "text/x-python",
   "name": "python",
   "nbconvert_exporter": "python",
   "pygments_lexer": "ipython3",
   "version": "3.11.5"
  }
 },
 "nbformat": 4,
 "nbformat_minor": 2
}
