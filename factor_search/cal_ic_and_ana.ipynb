{
 "cells": [
  {
   "cell_type": "code",
   "execution_count": 1,
   "metadata": {},
   "outputs": [],
   "source": [
    "import pandas as pd\n",
    "import os\n",
    "os.environ[\"OMP_NUM_THREADS\"] = \"100\"\n",
    "%load_ext autoreload\n",
    "%autoreload 2\n",
    "\n",
    "from config.path import Path\n",
    "data_path = Path"
   ]
  },
  {
   "cell_type": "markdown",
   "metadata": {},
   "source": [
    "#### recal ic to study factor importance measurement method"
   ]
  },
  {
   "cell_type": "code",
   "execution_count": null,
   "metadata": {},
   "outputs": [],
   "source": [
    "input_para=[1, 1, 'normal_ic', 'All']#\n",
    "return_time = input_para[0]\n",
    "factor_back_time = input_para[1]\n",
    "ic_types=input_para[2]\n",
    "factor_type=input_para[3]\n",
    "\n",
    "select_date = 20\n",
    "level =str(select_date)+\"_tick_level_downsample\"\n",
    "\n",
    "from ana_code.cal_ic import Cal_ic\n",
    "\n",
    "cal_obj = Cal_ic(data_path, factor_type,level, select_date, time_intervel=1)\n",
    "cal_obj.cal_IC_oneday(mean_value_method=\"normal_mean\")\n",
    "print(\"finish step one\")\n",
    "cal_obj.cal_IC_oneday(mean_value_method=\"allday_mean\")\n",
    "print(\"finish step two\")\n",
    "cal_obj.cal_IC_allday()"
   ]
  },
  {
   "cell_type": "markdown",
   "metadata": {},
   "source": [
    "### statistical ic calculation results"
   ]
  },
  {
   "cell_type": "code",
   "execution_count": null,
   "metadata": {},
   "outputs": [],
   "source": [
    "from ana_code.results_ana import IC_results_ana\n",
    "\n",
    "# for year in [20]:\n",
    "for year in [2020,2021,20]:\n",
    "    for mean_value_method in ['normal_mean', \"allday_mean\"]:\n",
    "\n",
    "        file_name = \"All_type_%s_%s_tick_level_downsample_IC_eachday.csv\"%(mean_value_method, year)\n",
    "\n",
    "        ic_result_df = pd.read_csv(data_path+'data/ic_recal_data/'+file_name)\n",
    "        ic_object = IC_results_ana(ic_result_df, factor_type=\"All\")\n",
    "        ic_object.cal_icstat(ic_file_info = file_name.split('.')[0])"
   ]
  }
 ],
 "metadata": {
  "kernelspec": {
   "display_name": "Python 3",
   "language": "python",
   "name": "python3"
  },
  "language_info": {
   "codemirror_mode": {
    "name": "ipython",
    "version": 3
   },
   "file_extension": ".py",
   "mimetype": "text/x-python",
   "name": "python",
   "nbconvert_exporter": "python",
   "pygments_lexer": "ipython3",
   "version": "3.7.10"
  },
  "orig_nbformat": 4
 },
 "nbformat": 4,
 "nbformat_minor": 2
}
