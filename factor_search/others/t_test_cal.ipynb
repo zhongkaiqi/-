{
 "cells": [
  {
   "cell_type": "code",
   "execution_count": 1,
   "metadata": {},
   "outputs": [],
   "source": [
    "import pandas as pd\n",
    "import numpy as np\n",
    "import matplotlib.pyplot as plt\n",
    "#for debug\n",
    "%load_ext autoreload\n",
    "%autoreload 2\n",
    "import statsmodels.api as sm\n",
    "plt.style.use(\"C:/Users/Ysh/.matplotlib/Paper.mplstyle\")"
   ]
  },
  {
   "cell_type": "code",
   "execution_count": 2,
   "metadata": {},
   "outputs": [],
   "source": [
    "input_para=[1, 1, 'normal_ic', 'D']#\n",
    "return_time = input_para[0]\n",
    "factor_back_time = input_para[1]\n",
    "ic_types=input_para[2]\n",
    "factor_type=input_para[3]\n",
    "\n",
    "df = pd.read_hdf('D:/OneDrive/test-LL/swhy/sw_work/data/ic_results_data/\\\n",
    "type_%s_factor_and_return_%s_min_back_%s_min_%s_2020-2021.h5'%(factor_type, str(return_time), \\\n",
    "                                                               factor_back_time, ic_types))\n",
    "# print(df.tail(3))\n"
   ]
  },
  {
   "cell_type": "code",
   "execution_count": 2,
   "metadata": {},
   "outputs": [
    {
     "name": "stderr",
     "output_type": "stream",
     "text": [
      "C:\\Users\\Ysh\\AppData\\Local\\Temp\\ipykernel_14676\\3106077852.py:16: FutureWarning: In a future version of pandas, a length 1 tuple will be returned when iterating over a groupby with a grouper equal to a list of length 1. Don't supply a list with a single grouper to avoid this warning.\n",
      "  for date, df_oneday in grouped_df:\n"
     ]
    }
   ],
   "source": [
    "\n",
    "def calculate_t_value():\n",
    "    result_df = pd.DataFrame()\n",
    "    df['TradingDate'] = df['TradingTime'].dt.date\n",
    "    grouped_df = df.groupby(['TradingDate'])\n",
    "    index = 0 \n",
    "    for date, df_oneday in grouped_df: \n",
    "        index+=1\n",
    "        # if index > 10:\n",
    "        #     break\n",
    "        columns_list = df_oneday.columns.drop(['TradingDate','Symbol','TradingTime','return'])\n",
    "        # df_oneday = df_oneday.fillna(method='ffill')\n",
    "        \n",
    "        result = pd.DataFrame(index=[date])\n",
    "        result['Symbol'] = [df_oneday['Symbol'].iloc[0]]\n",
    "        result['TradingDate'] = [df_oneday['TradingTime'].dt.date.iloc[0]]\n",
    "        for column in range(len(columns_list)):\n",
    "            x = df_oneday[columns_list[column]]\n",
    "            y = df_oneday['return']\n",
    "            \n",
    "            # delete nan factor number\n",
    "            return_data = y[x.notna()]\n",
    "            factor_one = x.dropna()\n",
    "            # ic_value = [np.corrcoef(factor_one, return_data)[0, 1]]\n",
    "            #线性回归\n",
    "            factor_one=sm.add_constant(factor_one)\n",
    "            model=sm.OLS(return_data, factor_one).fit()\n",
    "            coef = model.params[1]\n",
    "            t_value = model.tvalues[1]\n",
    "            result[columns_list[column]] = t_value\n",
    "\n",
    "        result_df = pd.concat([result_df, result]).reset_index(drop=True)\n",
    "    \n",
    "    result_df.to_csv(\"../plots/test_D_t_test.csv\")               \n",
    "calculate_t_value()\n"
   ]
  },
  {
   "cell_type": "code",
   "execution_count": 3,
   "metadata": {},
   "outputs": [
    {
     "name": "stdout",
     "output_type": "stream",
     "text": [
      "(486, 16)\n"
     ]
    }
   ],
   "source": [
    "t_test_df =  pd.read_csv(\"../plots/test_D_t_test.csv\") \n",
    "\n",
    "\n",
    "input_para=[1, 1, 'normal_ic', 'D']#\n",
    "return_time = input_para[0]\n",
    "factor_back_time = input_para[1]\n",
    "ic_types=input_para[2]\n",
    "factor_type=input_para[3]\n",
    "\n",
    "ic_result_df = pd.read_csv('D:/OneDrive/test-LL/swhy/sw_work/data/ic_results_data/\\\n",
    "type_%s_ic_results_return_%s_min_back_%s_min_%s_2020-2021.csv'%(factor_type, str(return_time), factor_back_time, ic_types))\n",
    "print(ic_result_df.shape)\n",
    "\n",
    "\n",
    "columns_list = t_test_df.columns.drop(['TradingDate','Symbol'])\n",
    "from matplotlib.backends.backend_pdf import PdfPages\n",
    "with PdfPages('../plots/%s_IC_VS_t_test_with_time_multipage_plots.pdf'%factor_type) as pdf:\n",
    "    for index in range(len(columns_list)):      \n",
    "        # draw figures\n",
    "        fig, ax = plt.subplots(figsize=(12, 7))\n",
    "        ax2 = ax.twinx()\n",
    "        ax.plot(t_test_df['TradingDate'], t_test_df[columns_list[index]],'r.',label=\"t-test mean:%0.4f\"%t_test_df[columns_list[index]].mean())\n",
    "        ax2.plot(ic_result_df['TradingDate'], ic_result_df[columns_list[index]],'b.', label=\"IC mean:%0.4f\"%ic_result_df[columns_list[index]].mean())\n",
    "        import matplotlib.dates as mdates\n",
    "        ax.xaxis.set_major_locator(mdates.DayLocator(interval=int(len(t_test_df)/7)))\n",
    "        ax.xaxis.set_tick_params(rotation=30)\n",
    "        \n",
    "        ax.legend(frameon=True,loc='upper left')\n",
    "        ax2.legend(frameon=True,loc='upper right')\n",
    "        ax.set_ylabel(\"T-test value\")\n",
    "        ax2.set_ylabel(\"IC value\")\n",
    "        plt.title(columns_list[index])\n",
    "        plt.tight_layout()\n",
    "        pdf.savefig(fig)\n",
    "        plt.close(fig) \n",
    "\n",
    "\n",
    "from result_ana import cal_t_teststa\n",
    "\n",
    "cal_t_teststa(t_test_df, \"t-test_D\")"
   ]
  }
 ],
 "metadata": {
  "kernelspec": {
   "display_name": "Python 3",
   "language": "python",
   "name": "python3"
  },
  "language_info": {
   "codemirror_mode": {
    "name": "ipython",
    "version": 3
   },
   "file_extension": ".py",
   "mimetype": "text/x-python",
   "name": "python",
   "nbconvert_exporter": "python",
   "pygments_lexer": "ipython3",
   "version": "3.10.8"
  },
  "orig_nbformat": 4
 },
 "nbformat": 4,
 "nbformat_minor": 2
}
