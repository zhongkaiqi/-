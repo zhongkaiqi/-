{
 "cells": [
  {
   "cell_type": "code",
   "execution_count": null,
   "metadata": {},
   "outputs": [],
   "source": []
  },
  {
   "cell_type": "code",
   "execution_count": null,
   "metadata": {},
   "outputs": [],
   "source": [
    "skew_data = np.load(\"../data/middle_test_data/realized_skew_array.npy\")\n",
    "modeling_data = np.load(\"../data/middle_test_data/modeling_shape_feature_array.npy\")\n",
    "\n",
    "fig, ax = plt.subplots()\n",
    "ax.plot(skew_data.T[0],'r--',label=\"realized_skew max\")\n",
    "ax.plot(skew_data.T[1],'r-',label=\"realized_skew min\")\n",
    "ax2 =ax.twinx()\n",
    "ax2.plot(modeling_data.T[0],'b--',label=\"modeling_shape_feature max\")\n",
    "ax2.plot(modeling_data.T[1],'b-',label=\"modeling_shape_feature min\")\n",
    "\n",
    "range = modeling_data.T[0] \n",
    "range2 = skew_data.T[0] \n",
    "value = np.mean(range)/np.std(range)\n",
    "value2 = np.mean(range2)/np.std(range2)\n",
    "print(value, value2)\n",
    "\n",
    "ax.legend()\n",
    "ax2.legend()\n",
    "plt.savefig(\"../plots/test/model_test.pdf\")"
   ]
  }
 ],
 "metadata": {
  "language_info": {
   "name": "python"
  },
  "orig_nbformat": 4
 },
 "nbformat": 4,
 "nbformat_minor": 2
}
