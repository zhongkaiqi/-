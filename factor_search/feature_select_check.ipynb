{
 "cells": [
  {
   "cell_type": "code",
   "execution_count": null,
   "metadata": {},
   "outputs": [],
   "source": [
    "import pandas as pd\n",
    "import os\n",
    "import warnings\n",
    "warnings.filterwarnings(\"ignore\")\n",
    "%load_ext autoreload\n",
    "%autoreload 2\n",
    "\n",
    "from config.path import Path\n",
    "data_path = Path"
   ]
  },
  {
   "cell_type": "markdown",
   "metadata": {},
   "source": [
    "##### Filter data based on IC value size, get selected features names"
   ]
  },
  {
   "cell_type": "code",
   "execution_count": null,
   "metadata": {},
   "outputs": [],
   "source": [
    "\"\"\" get selected useful factor name\"\"\"\n",
    "%load_ext autoreload\n",
    "%autoreload 2\n",
    "\n",
    "input_para=[1, 1, 'normal_ic', 'All']#\n",
    "return_time = input_para[0]\n",
    "factor_back_time = input_para[1]\n",
    "ic_types=input_para[2]\n",
    "factor_type=input_para[3]\n",
    "\n",
    "year = 20\n",
    "mean_value_method = 'normal_mean'\n",
    "ic_range=[0.01,1]\n",
    "\n",
    "file_name = \"All_type_%s_%s_tick_level_IC_eachday.csv\"%(mean_value_method, year)\n",
    "ic_result_df = pd.read_csv(data_path+'ic_recal_data/%s'%file_name)\n",
    "\n",
    "allday_ic_df = pd.read_csv(data_path+'ic_recal_data/'+'All_type_20_tick_level_IC_allday.csv')\n",
    "\n",
    "select_allday = allday_ic_df[(allday_ic_df['All_day_IC'].abs() >= ic_range[0]) & (allday_ic_df['All_day_IC'].abs() <= ic_range[1])]\n",
    "allday_sel_cols = list(select_allday['features'])\n",
    "\n",
    "print(\"allday IC selected cols num\", len(allday_sel_cols))\n",
    "\n",
    "from ana_code.results_ana import IC_results_ana\n",
    "ic_object = IC_results_ana(ic_result_df, factor_type, level=\"IC\")\n",
    "ic_ana_result, selected_cols = ic_object.cal_icstat(ic_range=ic_range)\n",
    "\n",
    "final_choice_cols = list(set(allday_sel_cols) & set(selected_cols))\n",
    "\n",
    "print(\"final choice cols num: \",len(final_choice_cols))\n",
    "\n",
    "os.chdir(data_path+'/ic_results_data/%s_factor_data/'%factor_type)\n",
    "fname_list = [x for x in os.listdir() if \"2020\" in x or \"2021\" in x]\n",
    "read_cols = ['Symbol','TradingTime','return'] + final_choice_cols \n",
    "\n",
    "print(read_cols)\n",
    "\n",
    "factor_result_df = pd.DataFrame()\n",
    "for file in fname_list:\n",
    "    \n",
    "    df_oneday = pd.read_hdf(file)\n",
    "    selected_df = df_oneday[read_cols]\n",
    "    factor_result_df = pd.concat([factor_result_df,selected_df],ignore_index=True)\n",
    "\n",
    "print(factor_result_df)"
   ]
  },
  {
   "cell_type": "markdown",
   "metadata": {},
   "source": [
    "#### calculate the feature through maximum clique algorithm"
   ]
  },
  {
   "cell_type": "code",
   "execution_count": null,
   "metadata": {},
   "outputs": [],
   "source": [
    "%load_ext autoreload\n",
    "%autoreload 2\n",
    "from ana_code.results_ana import Factor_results_ana\n",
    "factor_object = Factor_results_ana(factor_result_df, factor_type, level=\"Factor\")\n",
    "selected_factor_index = factor_object.select_factor(final_choice_cols,ic_ana_result,corr_threshold=0.5)\n"
   ]
  },
  {
   "cell_type": "markdown",
   "metadata": {},
   "source": [
    "#### analysis the distribution and corr between factors using IC value"
   ]
  },
  {
   "cell_type": "code",
   "execution_count": null,
   "metadata": {},
   "outputs": [],
   "source": [
    "from ana_code.results_ana import IC_results_ana\n",
    "ic_object = IC_results_ana(ic_result_df[selected_factor_index], factor_type, level=\"IC\")\n",
    "ic_object.corr_heatmap()\n",
    "ic_object.ic_vs_ic_delta()\n",
    "ic_object.ic_vs_time()\n",
    "# ic_object.cal_icstat(ic_file_name=\"selected\")"
   ]
  },
  {
   "cell_type": "markdown",
   "metadata": {},
   "source": [
    "#### analysis the distribution and corr between factors using factor value"
   ]
  },
  {
   "cell_type": "code",
   "execution_count": null,
   "metadata": {},
   "outputs": [],
   "source": [
    "if 'return' not in selected_factor_index:\n",
    "    factor_index = selected_factor_index + ['return']\n",
    "    \n",
    "factor_object_select = Factor_results_ana(factor_result_df[factor_index+['TradingTime']], factor_type, level=\"Factor\")\n",
    "factor_object_select.corr_heatmap()\n",
    "factor_object_select.corr_between_factors_oneday(columns_list = ['C1_aggre_abs_sum','return'])\n",
    "\n",
    "\"\"\"draw all day IC picture\"\"\"\n",
    "factor_object_select.corr_between_factors_allday(columns_list=factor_index)"
   ]
  }
 ],
 "metadata": {
  "kernelspec": {
   "display_name": "Python 3",
   "language": "python",
   "name": "python3"
  },
  "language_info": {
   "codemirror_mode": {
    "name": "ipython",
    "version": 3
   },
   "file_extension": ".py",
   "mimetype": "text/x-python",
   "name": "python",
   "nbconvert_exporter": "python",
   "pygments_lexer": "ipython3",
   "version": "3.7.10"
  }
 },
 "nbformat": 4,
 "nbformat_minor": 2
}
